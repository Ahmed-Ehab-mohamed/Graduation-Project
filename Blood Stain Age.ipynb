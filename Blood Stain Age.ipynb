{
 "cells": [
  {
   "cell_type": "code",
   "execution_count": 1,
   "id": "c963ecf5-5f82-47f9-9938-b84aae28bcb1",
   "metadata": {},
   "outputs": [],
   "source": [
    "# all imports needed in the project \n",
    "import os\n",
    "import cv2\n",
    "import numpy as np\n",
    "import pandas as pd\n",
    "from sklearn.model_selection import train_test_split\n",
    "from sklearn.ensemble import RandomForestClassifier\n",
    "from sklearn.metrics import accuracy_score, confusion_matrix, classification_report\n",
    "from skimage import io, color\n",
    "from tensorflow.keras.applications.inception_v3 import InceptionV3, preprocess_input\n",
    "from tensorflow.keras.layers import Dense, LSTM, Flatten, Activation, Input, Lambda\n",
    "from tensorflow.keras.models import Model, Sequential\n",
    "from tensorflow.keras.preprocessing.image import img_to_array, load_img\n",
    "import shap\n",
    "from skimage.segmentation import slic\n",
    "from keras.models import load_model\n",
    "import matplotlib.pyplot as plt"
   ]
  },
  {
   "cell_type": "code",
   "execution_count": 52,
   "id": "414e30e7-13f8-46d8-93b2-65f4b0a1c3e5",
   "metadata": {},
   "outputs": [],
   "source": [
    "# load the data and preform preprocessing\n",
    "def load_and_preprocess_images(base_dir):\n",
    "    images = []\n",
    "    labels = []\n",
    "    img_paths = []\n",
    "\n",
    "    for label, class_dir in enumerate(os.listdir(base_dir)):\n",
    "        class_path = os.path.join(base_dir, class_dir)\n",
    "        for img_name in os.listdir(class_path):\n",
    "            img_path = os.path.join(class_path, img_name)\n",
    "            img_paths.append(img_path)\n",
    "            img = load_img(img_path, target_size=(75, 75))\n",
    "            img = img_to_array(img)\n",
    "            img = cv2.cvtColor(img, cv2.COLOR_RGB2BGR)  # Convert to BGR color space\n",
    "            img = img.astype(np.uint8)  # Ensure the image is of type CV_8UC3\n",
    "            img = cv2.fastNlMeansDenoisingColored(img, None, 10, 10, 7, 21)  # Denoise\n",
    "            img = cv2.cvtColor(img, cv2.COLOR_BGR2Lab)  # Convert to Lab color space\n",
    "            images.append(img)\n",
    "            labels.append(label)\n",
    "\n",
    "    return np.array(images), np.array(labels), img_paths\n",
    "\n"
   ]
  },
  {
   "cell_type": "code",
   "execution_count": 3,
   "id": "14fdd977-37cd-4575-a277-208c6d224a8c",
   "metadata": {},
   "outputs": [],
   "source": [
    "#Fetch the data\n",
    "train_dir = \"data/train1\"\n",
    "X_train, y_train, img_paths_train = load_and_preprocess_images(train_dir)"
   ]
  },
  {
   "cell_type": "code",
   "execution_count": 4,
   "id": "654a1e6a-fe47-4196-9a11-5ebd57088d72",
   "metadata": {},
   "outputs": [],
   "source": [
    "# Split the data into training and validation sets\n",
    "X_train, X_val, y_train, y_val, img_paths_train, img_paths_val = train_test_split(X_train, y_train, img_paths_train, test_size=0.1, random_state=42)"
   ]
  },
  {
   "cell_type": "code",
   "execution_count": 5,
   "id": "896d3db5-e3f0-49a4-a605-e251d6cd9639",
   "metadata": {},
   "outputs": [
    {
     "name": "stdout",
     "output_type": "stream",
     "text": [
      "587/587 [==============================] - 118s 197ms/step\n",
      "66/66 [==============================] - 11s 170ms/step\n"
     ]
    }
   ],
   "source": [
    "# Feature Extraction: Use a pre-trained model (InceptionV3)\n",
    "inception_model = InceptionV3(weights='imagenet', include_top=False, input_shape=(75, 75, 3))\n",
    "X_train_features = inception_model.predict(preprocess_input(X_train))\n",
    "X_val_features = inception_model.predict(preprocess_input(X_val))\n"
   ]
  },
  {
   "cell_type": "code",
   "execution_count": 6,
   "id": "827792de-6b7d-45fd-a6f8-fe378f5ff9a3",
   "metadata": {},
   "outputs": [],
   "source": [
    "# Reshape the features for LSTM\n",
    "X_train_features_reshaped = X_train_features.reshape(X_train_features.shape[0], -1)\n",
    "X_val_features_reshaped = X_val_features.reshape(X_val_features.shape[0], -1)"
   ]
  },
  {
   "cell_type": "code",
   "execution_count": 101,
   "id": "77aca473-bca3-464d-b8e6-65bbd5c28548",
   "metadata": {},
   "outputs": [
    {
     "name": "stdout",
     "output_type": "stream",
     "text": [
      "Epoch 1/10\n",
      "587/587 [==============================] - 5s 6ms/step - loss: 1.2911 - accuracy: 0.4407 - val_loss: 1.1288 - val_accuracy: 0.5156\n",
      "Epoch 2/10\n",
      "587/587 [==============================] - 3s 6ms/step - loss: 0.9653 - accuracy: 0.6026 - val_loss: 0.9732 - val_accuracy: 0.5688\n",
      "Epoch 3/10\n",
      "587/587 [==============================] - 4s 6ms/step - loss: 0.7935 - accuracy: 0.6814 - val_loss: 0.7868 - val_accuracy: 0.6974\n",
      "Epoch 4/10\n",
      "587/587 [==============================] - 3s 5ms/step - loss: 0.6944 - accuracy: 0.7258 - val_loss: 0.7431 - val_accuracy: 0.7185\n",
      "Epoch 5/10\n",
      "587/587 [==============================] - 3s 5ms/step - loss: 0.6255 - accuracy: 0.7537 - val_loss: 0.6585 - val_accuracy: 0.7573\n",
      "Epoch 6/10\n",
      "587/587 [==============================] - 3s 6ms/step - loss: 0.5726 - accuracy: 0.7737 - val_loss: 0.6020 - val_accuracy: 0.7746\n",
      "Epoch 7/10\n",
      "587/587 [==============================] - 3s 5ms/step - loss: 0.5365 - accuracy: 0.7900 - val_loss: 0.5573 - val_accuracy: 0.8005\n",
      "Epoch 8/10\n",
      "587/587 [==============================] - 3s 5ms/step - loss: 0.4958 - accuracy: 0.8082 - val_loss: 0.5556 - val_accuracy: 0.7875\n",
      "Epoch 9/10\n",
      "587/587 [==============================] - 3s 6ms/step - loss: 0.4688 - accuracy: 0.8193 - val_loss: 0.5341 - val_accuracy: 0.8024\n",
      "Epoch 10/10\n",
      "587/587 [==============================] - 4s 6ms/step - loss: 0.4487 - accuracy: 0.8238 - val_loss: 0.6590 - val_accuracy: 0.7233\n"
     ]
    }
   ],
   "source": [
    "# Build CNN model\n",
    "cnn_model = Sequential([\n",
    "    Flatten(input_shape=(1, 1, 2048)),\n",
    "    Dense(64, activation='relu'),\n",
    "    Dense(5, activation='softmax')\n",
    "])\n",
    "\n",
    "cnn_model.compile(optimizer='adam', loss='sparse_categorical_crossentropy', metrics=['accuracy'])\n",
    "cnn_model.fit(X_train_features, y_train, epochs=10, batch_size=32, validation_data=(X_val_features, y_val))\n",
    "\n",
    "# Save CNN model\n",
    "cnn_model.save(\"cnn_model.h5\")"
   ]
  },
  {
   "cell_type": "code",
   "execution_count": 11,
   "id": "53f9feab-5076-4a9c-8dd3-e1a2255a8b05",
   "metadata": {},
   "outputs": [
    {
     "name": "stdout",
     "output_type": "stream",
     "text": [
      "Epoch 1/10\n",
      "469/469 [==============================] - 3s 5ms/step - loss: 1.3321 - accuracy: 0.4146 - val_loss: 1.0999 - val_accuracy: 0.5602\n",
      "Epoch 2/10\n",
      "469/469 [==============================] - 2s 4ms/step - loss: 1.0063 - accuracy: 0.5848 - val_loss: 0.8801 - val_accuracy: 0.6450\n",
      "Epoch 3/10\n",
      "469/469 [==============================] - 2s 4ms/step - loss: 0.8169 - accuracy: 0.6720 - val_loss: 0.7950 - val_accuracy: 0.6812\n",
      "Epoch 4/10\n",
      "469/469 [==============================] - 2s 4ms/step - loss: 0.7007 - accuracy: 0.7249 - val_loss: 0.6599 - val_accuracy: 0.7441\n",
      "Epoch 5/10\n",
      "469/469 [==============================] - 2s 4ms/step - loss: 0.6158 - accuracy: 0.7639 - val_loss: 0.6377 - val_accuracy: 0.7455\n",
      "Epoch 6/10\n",
      "469/469 [==============================] - 2s 4ms/step - loss: 0.5600 - accuracy: 0.7802 - val_loss: 0.6117 - val_accuracy: 0.7391\n",
      "Epoch 7/10\n",
      "469/469 [==============================] - 2s 4ms/step - loss: 0.5084 - accuracy: 0.8078 - val_loss: 0.5685 - val_accuracy: 0.7729\n",
      "Epoch 8/10\n",
      "469/469 [==============================] - 2s 5ms/step - loss: 0.4730 - accuracy: 0.8185 - val_loss: 0.4822 - val_accuracy: 0.8126\n",
      "Epoch 9/10\n",
      "469/469 [==============================] - 2s 4ms/step - loss: 0.4428 - accuracy: 0.8287 - val_loss: 0.4806 - val_accuracy: 0.8134\n",
      "Epoch 10/10\n",
      "469/469 [==============================] - 2s 4ms/step - loss: 0.4192 - accuracy: 0.8421 - val_loss: 0.4938 - val_accuracy: 0.8110\n"
     ]
    }
   ],
   "source": [
    "from tensorflow.keras.models import Sequential\n",
    "from tensorflow.keras.layers import SimpleRNN, Dense, Flatten\n",
    "\n",
    "# Flatten the data\n",
    "X_train_features_flattened = X_train_features.reshape((X_train_features.shape[0], -1, X_train_features.shape[-1]))\n",
    "\n",
    "# Define the RNN model\n",
    "rnn_model = Sequential([\n",
    "    SimpleRNN(64, input_shape=(X_train_features_flattened.shape[1], X_train_features_flattened.shape[2])),\n",
    "    Dense(5, activation='softmax')\n",
    "])\n",
    "\n",
    "rnn_model.compile(optimizer='adam', loss='sparse_categorical_crossentropy', metrics=['accuracy'])\n",
    "rnn_model.fit(X_train_features_flattened, y_train, epochs=10, validation_split=0.2)\n",
    "\n",
    "# Save RNN model\n",
    "rnn_model.save(\"rnn_model.h5\")\n"
   ]
  },
  {
   "cell_type": "code",
   "execution_count": 13,
   "id": "ebd8b840-4fab-408d-b415-c48ab0fb6830",
   "metadata": {
    "scrolled": true
   },
   "outputs": [
    {
     "data": {
      "text/plain": [
       "['random_forest_model.joblib']"
      ]
     },
     "execution_count": 13,
     "metadata": {},
     "output_type": "execute_result"
    }
   ],
   "source": [
    "# Reshape the data for RandomForestClassifier\n",
    "X_train_features_reshaped = X_train_features_reshaped.reshape((X_train_features_reshaped.shape[0], -1))\n",
    "\n",
    "# Build RandomForest model\n",
    "rf_model = RandomForestClassifier(n_estimators=100, random_state=42)\n",
    "rf_model.fit(X_train_features_reshaped, y_train)\n",
    "\n",
    "# Save RandomForest model\n",
    "import joblib\n",
    "joblib.dump(rf_model, \"random_forest_model.joblib\")\n"
   ]
  },
  {
   "cell_type": "code",
   "execution_count": 84,
   "id": "4cbfe363-96d9-4666-9daa-6e1971118b39",
   "metadata": {
    "scrolled": true
   },
   "outputs": [
    {
     "name": "stdout",
     "output_type": "stream",
     "text": [
      "66/66 [==============================] - 0s 3ms/step\n",
      "Evaluation results for CNN:\n",
      "\n",
      "Accuracy: 0.8125\n",
      "\n",
      "Confusion Matrix:\n",
      "[[308  14  44  47  14]\n",
      " [  4 432  10  11  24]\n",
      " [ 12   1 272  85   1]\n",
      " [ 13   5  84 297   4]\n",
      " [  7   8   3   0 385]]\n",
      "\n",
      "Classification Report:\n",
      "              precision    recall  f1-score   support\n",
      "\n",
      "           0       0.90      0.72      0.80       427\n",
      "           1       0.94      0.90      0.92       481\n",
      "           2       0.66      0.73      0.69       371\n",
      "           3       0.68      0.74      0.70       403\n",
      "           4       0.90      0.96      0.93       403\n",
      "\n",
      "    accuracy                           0.81      2085\n",
      "   macro avg       0.81      0.81      0.81      2085\n",
      "weighted avg       0.82      0.81      0.81      2085\n",
      "\n"
     ]
    }
   ],
   "source": [
    "from sklearn.metrics import accuracy_score, confusion_matrix, classification_report\n",
    "# cnn evaluate model\n",
    "def evaluate_model(model, X, y, model_name):\n",
    "    y_pred_prob = model.predict(X)\n",
    "    y_pred = np.argmax(y_pred_prob, axis=1)  # Convert probabilities to class predictions\n",
    "    accuracy = accuracy_score(y, y_pred)\n",
    "    conf_matrix = confusion_matrix(y, y_pred)\n",
    "    classification_report_str = classification_report(y, y_pred)\n",
    "\n",
    "    print(f\"Evaluation results for {model_name}:\\n\")\n",
    "    print(f\"Accuracy: {accuracy:.4f}\\n\")\n",
    "    print(\"Confusion Matrix:\")\n",
    "    print(conf_matrix)\n",
    "    print(\"\\nClassification Report:\")\n",
    "    print(classification_report_str)\n",
    "    return accuracy\n",
    "\n",
    "# Example usage:\n",
    "cnn_accuracy = evaluate_model(cnn_model, X_val_features, y_val, \"CNN\")\n"
   ]
  },
  {
   "cell_type": "code",
   "execution_count": 86,
   "id": "40bba877-5fb4-4225-80c2-02cfb57c0f4e",
   "metadata": {},
   "outputs": [
    {
     "name": "stdout",
     "output_type": "stream",
     "text": [
      "66/66 [==============================] - 0s 3ms/step\n",
      "66/66 [==============================] - 0s 4ms/step\n"
     ]
    }
   ],
   "source": [
    "# Save outputs to a CSV file\n",
    "X_val_features_reshapedRnn = np.expand_dims(X_val_features, axis=1)\n",
    "\n",
    "# Ensure the shape matches the expected input shape of the RNN model\n",
    "X_val_features_reshapedRnn = X_val_features_reshapedRnn.reshape((X_val_features_reshaped.shape[0], 1, -1))\n",
    "cnn_predictions = cnn_model.predict(X_val_features)\n",
    "lstm_predictions = rnn_model.predict(X_val_features_reshapedRnn)\n",
    "rf_predictions = rf_model.predict(X_val_features_2d)"
   ]
  },
  {
   "cell_type": "code",
   "execution_count": 87,
   "id": "aa86d7f4-60ad-4fdb-b301-4c63b83d4ea4",
   "metadata": {},
   "outputs": [],
   "source": [
    "#save the data into a csv file \n",
    "df = pd.DataFrame({\n",
    "    'Image_Path': img_paths_val,\n",
    "    'True_Label': y_val,\n",
    "    'CNN_Prediction': np.argmax(cnn_predictions, axis=1),\n",
    "    'RNN_Prediction': np.argmax(lstm_predictions, axis=1),\n",
    "    'RandomForest_Prediction': rf_predictions,\n",
    "})\n",
    "\n",
    "df.to_csv('blood_stain_recognition_results.csv', index=False)"
   ]
  }
 ],
 "metadata": {
  "kernelspec": {
   "display_name": "Python 3 (ipykernel)",
   "language": "python",
   "name": "python3"
  },
  "language_info": {
   "codemirror_mode": {
    "name": "ipython",
    "version": 3
   },
   "file_extension": ".py",
   "mimetype": "text/x-python",
   "name": "python",
   "nbconvert_exporter": "python",
   "pygments_lexer": "ipython3",
   "version": "3.8.18"
  }
 },
 "nbformat": 4,
 "nbformat_minor": 5
}
